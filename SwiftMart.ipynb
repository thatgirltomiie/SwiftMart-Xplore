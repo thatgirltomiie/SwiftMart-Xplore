{
 "cells": [
  {
   "cell_type": "markdown",
   "id": "225633a7-2523-4d2d-891a-8fd846c7c2fe",
   "metadata": {},
   "source": [
    "# Exploratory Data Analysis\n",
    "\n",
    "## A case study of SwiftMart Inc"
   ]
  },
  {
   "cell_type": "markdown",
   "id": "1e3fe91b-4362-4f64-b521-cc6e3db3fd1f",
   "metadata": {},
   "source": [
    "## Step 1: Import necessary libraries"
   ]
  },
  {
   "cell_type": "code",
   "execution_count": 29,
   "id": "790759ea-7fd0-4277-81e7-a8494d64552c",
   "metadata": {},
   "outputs": [],
   "source": [
    "import numpy as np\n",
    "import pandas as pd\n",
    "import matplotlib.pyplot as plt\n",
    "import seaborn as sns"
   ]
  },
  {
   "cell_type": "markdown",
   "id": "5df118b7-1cf9-4b20-b60c-658043f0e643",
   "metadata": {},
   "source": [
    "## Step 2: Import data"
   ]
  },
  {
   "cell_type": "code",
   "execution_count": 31,
   "id": "802f377f-a3cd-4502-8a99-b719ca54a6e1",
   "metadata": {},
   "outputs": [
    {
     "data": {
      "text/html": [
       "<div>\n",
       "<style scoped>\n",
       "    .dataframe tbody tr th:only-of-type {\n",
       "        vertical-align: middle;\n",
       "    }\n",
       "\n",
       "    .dataframe tbody tr th {\n",
       "        vertical-align: top;\n",
       "    }\n",
       "\n",
       "    .dataframe thead th {\n",
       "        text-align: right;\n",
       "    }\n",
       "</style>\n",
       "<table border=\"1\" class=\"dataframe\">\n",
       "  <thead>\n",
       "    <tr style=\"text-align: right;\">\n",
       "      <th></th>\n",
       "      <th>Product ID</th>\n",
       "      <th>Product Name</th>\n",
       "      <th>Category</th>\n",
       "      <th>Price</th>\n",
       "      <th>Stock</th>\n",
       "    </tr>\n",
       "  </thead>\n",
       "  <tbody>\n",
       "    <tr>\n",
       "      <th>0</th>\n",
       "      <td>1</td>\n",
       "      <td>Laptop</td>\n",
       "      <td>Electronics</td>\n",
       "      <td>755.33</td>\n",
       "      <td>185</td>\n",
       "    </tr>\n",
       "    <tr>\n",
       "      <th>1</th>\n",
       "      <td>2</td>\n",
       "      <td>Smartphone</td>\n",
       "      <td>Electronics</td>\n",
       "      <td>1901.92</td>\n",
       "      <td>55</td>\n",
       "    </tr>\n",
       "    <tr>\n",
       "      <th>2</th>\n",
       "      <td>3</td>\n",
       "      <td>Tablet</td>\n",
       "      <td>Accessories</td>\n",
       "      <td>1466.67</td>\n",
       "      <td>52</td>\n",
       "    </tr>\n",
       "    <tr>\n",
       "      <th>3</th>\n",
       "      <td>4</td>\n",
       "      <td>Mouse</td>\n",
       "      <td>Accessories</td>\n",
       "      <td>1201.33</td>\n",
       "      <td>4</td>\n",
       "    </tr>\n",
       "    <tr>\n",
       "      <th>4</th>\n",
       "      <td>5</td>\n",
       "      <td>Keyboard</td>\n",
       "      <td>Accessories</td>\n",
       "      <td>320.48</td>\n",
       "      <td>43</td>\n",
       "    </tr>\n",
       "  </tbody>\n",
       "</table>\n",
       "</div>"
      ],
      "text/plain": [
       "   Product ID Product Name     Category    Price  Stock\n",
       "0           1       Laptop  Electronics   755.33    185\n",
       "1           2   Smartphone  Electronics  1901.92     55\n",
       "2           3       Tablet  Accessories  1466.67     52\n",
       "3           4        Mouse  Accessories  1201.33      4\n",
       "4           5     Keyboard  Accessories   320.48     43"
      ]
     },
     "execution_count": 31,
     "metadata": {},
     "output_type": "execute_result"
    }
   ],
   "source": [
    "df_product = pd.read_csv(\"ShopEase Products.csv\")\n",
    "df_product.head()"
   ]
  },
  {
   "cell_type": "code",
   "execution_count": 9,
   "id": "78fbffa7-4e79-4252-8e06-1ea39b6e0455",
   "metadata": {},
   "outputs": [
    {
     "data": {
      "text/html": [
       "<div>\n",
       "<style scoped>\n",
       "    .dataframe tbody tr th:only-of-type {\n",
       "        vertical-align: middle;\n",
       "    }\n",
       "\n",
       "    .dataframe tbody tr th {\n",
       "        vertical-align: top;\n",
       "    }\n",
       "\n",
       "    .dataframe thead th {\n",
       "        text-align: right;\n",
       "    }\n",
       "</style>\n",
       "<table border=\"1\" class=\"dataframe\">\n",
       "  <thead>\n",
       "    <tr style=\"text-align: right;\">\n",
       "      <th></th>\n",
       "      <th>Customer ID</th>\n",
       "      <th>Product ID</th>\n",
       "      <th>Order Date</th>\n",
       "      <th>Region</th>\n",
       "      <th>Quantity Ordered</th>\n",
       "      <th>Product Name</th>\n",
       "      <th>Category</th>\n",
       "      <th>Price</th>\n",
       "      <th>Total Sales</th>\n",
       "    </tr>\n",
       "  </thead>\n",
       "  <tbody>\n",
       "    <tr>\n",
       "      <th>0</th>\n",
       "      <td>1307</td>\n",
       "      <td>18</td>\n",
       "      <td>2022-10-08</td>\n",
       "      <td>North</td>\n",
       "      <td>2</td>\n",
       "      <td>Mousepad</td>\n",
       "      <td>Electronics</td>\n",
       "      <td>1054.27</td>\n",
       "      <td>2108.54</td>\n",
       "    </tr>\n",
       "    <tr>\n",
       "      <th>1</th>\n",
       "      <td>1340</td>\n",
       "      <td>18</td>\n",
       "      <td>2022-07-07</td>\n",
       "      <td>North</td>\n",
       "      <td>9</td>\n",
       "      <td>Mousepad</td>\n",
       "      <td>Electronics</td>\n",
       "      <td>1054.27</td>\n",
       "      <td>9488.43</td>\n",
       "    </tr>\n",
       "    <tr>\n",
       "      <th>2</th>\n",
       "      <td>1380</td>\n",
       "      <td>18</td>\n",
       "      <td>2022-06-15</td>\n",
       "      <td>East</td>\n",
       "      <td>7</td>\n",
       "      <td>Mousepad</td>\n",
       "      <td>Electronics</td>\n",
       "      <td>1054.27</td>\n",
       "      <td>7379.89</td>\n",
       "    </tr>\n",
       "    <tr>\n",
       "      <th>3</th>\n",
       "      <td>1009</td>\n",
       "      <td>18</td>\n",
       "      <td>2022-07-05</td>\n",
       "      <td>South</td>\n",
       "      <td>1</td>\n",
       "      <td>Mousepad</td>\n",
       "      <td>Electronics</td>\n",
       "      <td>1054.27</td>\n",
       "      <td>1054.27</td>\n",
       "    </tr>\n",
       "    <tr>\n",
       "      <th>4</th>\n",
       "      <td>1048</td>\n",
       "      <td>18</td>\n",
       "      <td>2022-02-21</td>\n",
       "      <td>East</td>\n",
       "      <td>3</td>\n",
       "      <td>Mousepad</td>\n",
       "      <td>Electronics</td>\n",
       "      <td>1054.27</td>\n",
       "      <td>3162.81</td>\n",
       "    </tr>\n",
       "  </tbody>\n",
       "</table>\n",
       "</div>"
      ],
      "text/plain": [
       "   Customer ID  Product ID  Order Date Region  Quantity Ordered Product Name  \\\n",
       "0         1307          18  2022-10-08  North                 2     Mousepad   \n",
       "1         1340          18  2022-07-07  North                 9     Mousepad   \n",
       "2         1380          18  2022-06-15   East                 7     Mousepad   \n",
       "3         1009          18  2022-07-05  South                 1     Mousepad   \n",
       "4         1048          18  2022-02-21   East                 3     Mousepad   \n",
       "\n",
       "      Category    Price  Total Sales  \n",
       "0  Electronics  1054.27      2108.54  \n",
       "1  Electronics  1054.27      9488.43  \n",
       "2  Electronics  1054.27      7379.89  \n",
       "3  Electronics  1054.27      1054.27  \n",
       "4  Electronics  1054.27      3162.81  "
      ]
     },
     "execution_count": 9,
     "metadata": {},
     "output_type": "execute_result"
    }
   ],
   "source": [
    "df_sales = pd.read_csv(\"ShopEase Sales.csv\")\n",
    "df_sales.head()"
   ]
  },
  {
   "cell_type": "code",
   "execution_count": 17,
   "id": "de8e82f2-4c09-4a52-aabc-f8c27c9a4a73",
   "metadata": {},
   "outputs": [
    {
     "data": {
      "text/html": [
       "<div>\n",
       "<style scoped>\n",
       "    .dataframe tbody tr th:only-of-type {\n",
       "        vertical-align: middle;\n",
       "    }\n",
       "\n",
       "    .dataframe tbody tr th {\n",
       "        vertical-align: top;\n",
       "    }\n",
       "\n",
       "    .dataframe thead th {\n",
       "        text-align: right;\n",
       "    }\n",
       "</style>\n",
       "<table border=\"1\" class=\"dataframe\">\n",
       "  <thead>\n",
       "    <tr style=\"text-align: right;\">\n",
       "      <th></th>\n",
       "      <th>Customer ID</th>\n",
       "      <th>Product ID</th>\n",
       "      <th>Quantity Ordered</th>\n",
       "      <th>Price</th>\n",
       "      <th>Total Sales</th>\n",
       "    </tr>\n",
       "  </thead>\n",
       "  <tbody>\n",
       "    <tr>\n",
       "      <th>count</th>\n",
       "      <td>4000.000000</td>\n",
       "      <td>4000.000000</td>\n",
       "      <td>4000.000000</td>\n",
       "      <td>4000.000000</td>\n",
       "      <td>4000.00000</td>\n",
       "    </tr>\n",
       "    <tr>\n",
       "      <th>mean</th>\n",
       "      <td>1200.407250</td>\n",
       "      <td>10.669250</td>\n",
       "      <td>4.917750</td>\n",
       "      <td>927.625452</td>\n",
       "      <td>4540.21913</td>\n",
       "    </tr>\n",
       "    <tr>\n",
       "      <th>std</th>\n",
       "      <td>115.650744</td>\n",
       "      <td>5.736687</td>\n",
       "      <td>2.583535</td>\n",
       "      <td>597.643817</td>\n",
       "      <td>4084.85829</td>\n",
       "    </tr>\n",
       "    <tr>\n",
       "      <th>min</th>\n",
       "      <td>1001.000000</td>\n",
       "      <td>1.000000</td>\n",
       "      <td>1.000000</td>\n",
       "      <td>50.960000</td>\n",
       "      <td>50.96000</td>\n",
       "    </tr>\n",
       "    <tr>\n",
       "      <th>25%</th>\n",
       "      <td>1102.750000</td>\n",
       "      <td>6.000000</td>\n",
       "      <td>3.000000</td>\n",
       "      <td>374.970000</td>\n",
       "      <td>1466.67000</td>\n",
       "    </tr>\n",
       "    <tr>\n",
       "      <th>50%</th>\n",
       "      <td>1198.000000</td>\n",
       "      <td>11.000000</td>\n",
       "      <td>5.000000</td>\n",
       "      <td>869.570000</td>\n",
       "      <td>3077.20000</td>\n",
       "    </tr>\n",
       "    <tr>\n",
       "      <th>75%</th>\n",
       "      <td>1301.000000</td>\n",
       "      <td>16.000000</td>\n",
       "      <td>7.000000</td>\n",
       "      <td>1466.670000</td>\n",
       "      <td>6797.97000</td>\n",
       "    </tr>\n",
       "    <tr>\n",
       "      <th>max</th>\n",
       "      <td>1400.000000</td>\n",
       "      <td>20.000000</td>\n",
       "      <td>9.000000</td>\n",
       "      <td>1940.120000</td>\n",
       "      <td>17461.08000</td>\n",
       "    </tr>\n",
       "  </tbody>\n",
       "</table>\n",
       "</div>"
      ],
      "text/plain": [
       "       Customer ID   Product ID  Quantity Ordered        Price  Total Sales\n",
       "count  4000.000000  4000.000000       4000.000000  4000.000000   4000.00000\n",
       "mean   1200.407250    10.669250          4.917750   927.625452   4540.21913\n",
       "std     115.650744     5.736687          2.583535   597.643817   4084.85829\n",
       "min    1001.000000     1.000000          1.000000    50.960000     50.96000\n",
       "25%    1102.750000     6.000000          3.000000   374.970000   1466.67000\n",
       "50%    1198.000000    11.000000          5.000000   869.570000   3077.20000\n",
       "75%    1301.000000    16.000000          7.000000  1466.670000   6797.97000\n",
       "max    1400.000000    20.000000          9.000000  1940.120000  17461.08000"
      ]
     },
     "execution_count": 17,
     "metadata": {},
     "output_type": "execute_result"
    }
   ],
   "source": [
    "df_sales.describe()"
   ]
  },
  {
   "cell_type": "code",
   "execution_count": 19,
   "id": "34a2048a-c119-4ac0-a865-1c7197efc596",
   "metadata": {},
   "outputs": [
    {
     "data": {
      "text/plain": [
       "<bound method DataFrame.info of       Customer ID  Product ID  Order Date Region  Quantity Ordered  \\\n",
       "0            1307          18  2022-10-08  North                 2   \n",
       "1            1340          18  2022-07-07  North                 9   \n",
       "2            1380          18  2022-06-15   East                 7   \n",
       "3            1009          18  2022-07-05  South                 1   \n",
       "4            1048          18  2022-02-21   East                 3   \n",
       "...           ...         ...         ...    ...               ...   \n",
       "3995         1398          14  2022-09-12   East                 3   \n",
       "3996         1234          14  2022-03-24  South                 1   \n",
       "3997         1295          14  2022-02-14  North                 6   \n",
       "3998         1074          14  2022-11-16   East                 3   \n",
       "3999         1204          14  2022-04-06   West                 8   \n",
       "\n",
       "     Product Name     Category    Price  Total Sales  \n",
       "0        Mousepad  Electronics  1054.27      2108.54  \n",
       "1        Mousepad  Electronics  1054.27      9488.43  \n",
       "2        Mousepad  Electronics  1054.27      7379.89  \n",
       "3        Mousepad  Electronics  1054.27      1054.27  \n",
       "4        Mousepad  Electronics  1054.27      3162.81  \n",
       "...           ...          ...      ...          ...  \n",
       "3995       Router  Accessories   432.55      1297.65  \n",
       "3996       Router  Accessories   432.55       432.55  \n",
       "3997       Router  Accessories   432.55      2595.30  \n",
       "3998       Router  Accessories   432.55      1297.65  \n",
       "3999       Router  Accessories   432.55      3460.40  \n",
       "\n",
       "[4000 rows x 9 columns]>"
      ]
     },
     "execution_count": 19,
     "metadata": {},
     "output_type": "execute_result"
    }
   ],
   "source": [
    "df_sales.info"
   ]
  },
  {
   "cell_type": "code",
   "execution_count": 21,
   "id": "159861a4-3ac7-44fc-a7b6-c484623810c6",
   "metadata": {},
   "outputs": [
    {
     "name": "stdout",
     "output_type": "stream",
     "text": [
      "<class 'pandas.core.frame.DataFrame'>\n",
      "RangeIndex: 4000 entries, 0 to 3999\n",
      "Data columns (total 9 columns):\n",
      " #   Column            Non-Null Count  Dtype  \n",
      "---  ------            --------------  -----  \n",
      " 0   Customer ID       4000 non-null   int64  \n",
      " 1   Product ID        4000 non-null   int64  \n",
      " 2   Order Date        4000 non-null   object \n",
      " 3   Region            4000 non-null   object \n",
      " 4   Quantity Ordered  4000 non-null   int64  \n",
      " 5   Product Name      4000 non-null   object \n",
      " 6   Category          4000 non-null   object \n",
      " 7   Price             4000 non-null   float64\n",
      " 8   Total Sales       4000 non-null   float64\n",
      "dtypes: float64(2), int64(3), object(4)\n",
      "memory usage: 281.4+ KB\n"
     ]
    }
   ],
   "source": [
    "df_sales.info()"
   ]
  },
  {
   "cell_type": "markdown",
   "id": "155204fc-3c39-4817-a465-ed30a4638160",
   "metadata": {},
   "source": [
    "# Change order date from object data type to date data type (date-time)"
   ]
  },
  {
   "cell_type": "code",
   "execution_count": 28,
   "id": "d86d35ac-6fe4-4010-a1bc-3d5c397323ee",
   "metadata": {},
   "outputs": [],
   "source": [
    "df_sales['Order Date'] = pd.to_datetime(df_sales['Order Date'])"
   ]
  },
  {
   "cell_type": "code",
   "execution_count": 30,
   "id": "17c0f5d2-1381-40de-ab34-ec7eebad6f66",
   "metadata": {},
   "outputs": [
    {
     "name": "stdout",
     "output_type": "stream",
     "text": [
      "<class 'pandas.core.frame.DataFrame'>\n",
      "RangeIndex: 4000 entries, 0 to 3999\n",
      "Data columns (total 9 columns):\n",
      " #   Column            Non-Null Count  Dtype         \n",
      "---  ------            --------------  -----         \n",
      " 0   Customer ID       4000 non-null   int64         \n",
      " 1   Product ID        4000 non-null   int64         \n",
      " 2   Order Date        4000 non-null   datetime64[ns]\n",
      " 3   Region            4000 non-null   object        \n",
      " 4   Quantity Ordered  4000 non-null   int64         \n",
      " 5   Product Name      4000 non-null   object        \n",
      " 6   Category          4000 non-null   object        \n",
      " 7   Price             4000 non-null   float64       \n",
      " 8   Total Sales       4000 non-null   float64       \n",
      "dtypes: datetime64[ns](1), float64(2), int64(3), object(3)\n",
      "memory usage: 281.4+ KB\n"
     ]
    }
   ],
   "source": [
    "df_sales.info()"
   ]
  },
  {
   "cell_type": "markdown",
   "id": "537edcfb-570b-45b0-80d7-c835d2b862e6",
   "metadata": {},
   "source": [
    "# Visualizations"
   ]
  },
  {
   "cell_type": "code",
   "execution_count": 42,
   "id": "0ed9e4fe-c326-4fcf-83a1-74284f882d45",
   "metadata": {},
   "outputs": [
    {
     "data": {
      "image/png": "[encoded data removed]",
      "text/plain": [
       "<Figure size 800x600 with 1 Axes>"
      ]
     },
     "metadata": {},
     "output_type": "display_data"
    }
   ],
   "source": [
    "## the distribution of the total sales column\n",
    "\n",
    "plt.figure(figsize=(8,6))\n",
    "sns.histplot(df_sales['Total Sales'], bins = 20, kde = True, color = 'red')\n",
    "plt.title('Total sales distribution')\n",
    "plt.show()"
   ]
  },
  {
   "cell_type": "code",
   "execution_count": 46,
   "id": "2781c152-38fd-4257-998a-cb0448c862e0",
   "metadata": {},
   "outputs": [
    {
     "data": {
      "text/plain": [
       "Region\n",
       "West     1061\n",
       "South    1011\n",
       "North     974\n",
       "East      954\n",
       "Name: count, dtype: int64"
      ]
     },
     "execution_count": 46,
     "metadata": {},
     "output_type": "execute_result"
    }
   ],
   "source": [
    "# total number of region and their orders\n",
    "\n",
    "df_sales[\"Region\"].value_counts()"
   ]
  },
  {
   "cell_type": "code",
   "execution_count": 48,
   "id": "27ab3e5a-4d5d-48da-8c7f-f8ffe160d5e1",
   "metadata": {},
   "outputs": [
    {
     "data": {
      "image/png": "[encoded data removed]",
      "text/plain": [
       "<Figure size 640x480 with 1 Axes>"
      ]
     },
     "metadata": {},
     "output_type": "display_data"
    }
   ],
   "source": [
    "# Bar graph of orders by region\n",
    "df_sales[\"Region\"].value_counts().plot(kind='bar')\n",
    "plt.title(\"Orders by region\")\n",
    "plt.show()"
   ]
  },
  {
   "cell_type": "code",
   "execution_count": 50,
   "id": "fe0824a3-7c5a-4cd5-b2bc-1f191bcc9eeb",
   "metadata": {},
   "outputs": [
    {
     "data": {
      "text/plain": [
       "Product Name\n",
       "USB Cable              233\n",
       "Smartwatch             222\n",
       "Memory Card            216\n",
       "Speakers               214\n",
       "Power Bank             214\n",
       "Mouse                  209\n",
       "Mousepad               204\n",
       "External Hard Drive    204\n",
       "Laptop Stand           203\n",
       "Monitor                200\n",
       "Smartphone             197\n",
       "Charger                194\n",
       "Tablet                 194\n",
       "HDMI Cable             193\n",
       "Printer                192\n",
       "Headphones             188\n",
       "Keyboard               188\n",
       "Webcam                 181\n",
       "Router                 178\n",
       "Laptop                 176\n",
       "Name: count, dtype: int64"
      ]
     },
     "execution_count": 50,
     "metadata": {},
     "output_type": "execute_result"
    }
   ],
   "source": [
    "df_sales[\"Product Name\"].value_counts()"
   ]
  },
  {
   "cell_type": "code",
   "execution_count": 11,
   "id": "391431ce-8a63-44dd-bab8-a359bd14f02a",
   "metadata": {},
   "outputs": [
    {
     "data": {
      "text/plain": [
       "18160876.52"
      ]
     },
     "execution_count": 11,
     "metadata": {},
     "output_type": "execute_result"
    }
   ],
   "source": [
    "Total_sales = df_sales[\"Total Sales\"].sum()\n",
    "Total_sales"
   ]
  },
  {
   "cell_type": "code",
   "execution_count": 15,
   "id": "b5e2dbfd-f4f4-4683-9258-ae614094d741",
   "metadata": {},
   "outputs": [
    {
     "data": {
      "text/plain": [
       "Total Sales\n",
       "4999.68     36\n",
       "1859.15     34\n",
       "1230.88     33\n",
       "2402.66     33\n",
       "14999.04    32\n",
       "            ..\n",
       "13200.03    13\n",
       "3618.66     13\n",
       "203.84      13\n",
       "2563.44     13\n",
       "305.76      13\n",
       "Name: count, Length: 180, dtype: int64"
      ]
     },
     "execution_count": 15,
     "metadata": {},
     "output_type": "execute_result"
    }
   ],
   "source": [
    "df_sales[\"Total Sales\"].value_counts()"
   ]
  },
  {
   "cell_type": "code",
   "execution_count": 35,
   "id": "2f5f0a0f-95b4-4b16-bfd8-7b2dd61b426b",
   "metadata": {},
   "outputs": [
    {
     "data": {
      "image/png": "[encoded data removed]",
      "text/plain": [
       "<Figure size 500x400 with 1 Axes>"
      ]
     },
     "metadata": {},
     "output_type": "display_data"
    }
   ],
   "source": [
    "# outliers in price - box plot\n",
    "\n",
    "plt.figure(figsize = (5,4))\n",
    "sns.boxplot(data = df_product, x= \"Price\")\n",
    "plt.title(\"Outlier check in the price column\")\n",
    "plt.xlabel(\"Price ($)\")\n",
    "plt.show()"
   ]
  },
  {
   "cell_type": "code",
   "execution_count": 43,
   "id": "35bce41e-06e1-443d-957b-1e87ece810ba",
   "metadata": {},
   "outputs": [
    {
     "data": {
      "text/plain": [
       "19671"
      ]
     },
     "execution_count": 43,
     "metadata": {},
     "output_type": "execute_result"
    }
   ],
   "source": [
    "# Total quanity of products ordered\n",
    "Total_products = df_sales[\"Quantity Ordered\"].sum()\n",
    "Total_products\n"
   ]
  },
  {
   "cell_type": "code",
   "execution_count": 51,
   "id": "55d24d32-55bf-41eb-b85a-754e4949be77",
   "metadata": {},
   "outputs": [
    {
     "name": "stdout",
     "output_type": "stream",
     "text": [
      "The average sales for SwiftMart = $4540.22\n"
     ]
    }
   ],
   "source": [
    "# Average sales made \n",
    "Average_sales = df_sales[\"Total Sales\"].mean()\n",
    "print(f\"The average sales for SwiftMart = ${Average_sales:.2f}\")"
   ]
  },
  {
   "cell_type": "markdown",
   "id": "45e92e85-d9e5-4671-bf0d-192e07a8c95c",
   "metadata": {},
   "source": [
    "## Bivariate Analysis"
   ]
  },
  {
   "cell_type": "code",
   "execution_count": 56,
   "id": "e54bdb4d-7feb-4d54-8a40-e5748a69a740",
   "metadata": {},
   "outputs": [
    {
     "data": {
      "text/plain": [
       "Product Name\n",
       "USB Cable              1183\n",
       "Power Bank             1089\n",
       "Memory Card            1060\n",
       "Speakers               1057\n",
       "Smartwatch             1043\n",
       "Mouse                  1037\n",
       "Keyboard               1001\n",
       "Smartphone              994\n",
       "External Hard Drive     986\n",
       "Laptop Stand            978\n",
       "Charger                 974\n",
       "Printer                 970\n",
       "HDMI Cable              956\n",
       "Mousepad                951\n",
       "Webcam                  925\n",
       "Tablet                  915\n",
       "Router                  911\n",
       "Monitor                 909\n",
       "Laptop                  872\n",
       "Headphones              860\n",
       "Name: Quantity Ordered, dtype: int64"
      ]
     },
     "execution_count": 56,
     "metadata": {},
     "output_type": "execute_result"
    }
   ],
   "source": [
    "# Quantity sold by product\n",
    "qty_product = df_sales.groupby(\"Product Name\")[\"Quantity Ordered\"].sum().sort_values(ascending = False)\n",
    "qty_product"
   ]
  },
  {
   "cell_type": "code",
   "execution_count": 62,
   "id": "96494bd0-c1ad-414a-8e2d-c55b46bac71e",
   "metadata": {},
   "outputs": [
    {
     "data": {
      "text/plain": [
       "Region\n",
       "East     4213515.39\n",
       "North    4539578.12\n",
       "South    4551248.44\n",
       "West     4856534.57\n",
       "Name: Total Sales, dtype: float64"
      ]
     },
     "execution_count": 62,
     "metadata": {},
     "output_type": "execute_result"
    }
   ],
   "source": [
    "# total sales by region\n",
    "Sales_region = df_sales.groupby(\"Region\")[\"Total Sales\"].sum()\n",
    "Sales_region"
   ]
  },
  {
   "cell_type": "code",
   "execution_count": null,
   "id": "937cc992-32d1-4f0f-a9e0-d6dcdd60c85b",
   "metadata": {},
   "outputs": [],
   "source": []
  }
 ],
 "metadata": {
  "kernelspec": {
   "display_name": "Python [conda env:base] *",
   "language": "python",
   "name": "conda-base-py"
  },
  "language_info": {
   "codemirror_mode": {
    "name": "ipython",
    "version": 3
   },
   "file_extension": ".py",
   "mimetype": "text/x-python",
   "name": "python",
   "nbconvert_exporter": "python",
   "pygments_lexer": "ipython3",
   "version": "3.12.7"
  }
 },
 "nbformat": 4,
 "nbformat_minor": 5
}
